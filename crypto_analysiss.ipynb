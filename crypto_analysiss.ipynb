{
 "cells": [
  {
   "cell_type": "code",
   "execution_count": 1,
   "id": "ecbb45f0-66f8-4770-bc3c-62d410aafec8",
   "metadata": {},
   "outputs": [
    {
     "name": "stdout",
     "output_type": "stream",
     "text": [
      "Requirement already satisfied: requests in c:\\users\\nikhil\\anaconda3\\lib\\site-packages (2.31.0)\n",
      "Requirement already satisfied: pandas in c:\\users\\nikhil\\anaconda3\\lib\\site-packages (2.1.4)\n",
      "Requirement already satisfied: openpyxl in c:\\users\\nikhil\\anaconda3\\lib\\site-packages (3.0.10)\n",
      "Requirement already satisfied: schedule in c:\\users\\nikhil\\anaconda3\\lib\\site-packages (1.2.2)\n",
      "Requirement already satisfied: fpdf in c:\\users\\nikhil\\anaconda3\\lib\\site-packages (1.7.2)\n",
      "Requirement already satisfied: charset-normalizer<4,>=2 in c:\\users\\nikhil\\anaconda3\\lib\\site-packages (from requests) (2.0.4)\n",
      "Requirement already satisfied: idna<4,>=2.5 in c:\\users\\nikhil\\anaconda3\\lib\\site-packages (from requests) (3.4)\n",
      "Requirement already satisfied: urllib3<3,>=1.21.1 in c:\\users\\nikhil\\anaconda3\\lib\\site-packages (from requests) (2.0.7)\n",
      "Requirement already satisfied: certifi>=2017.4.17 in c:\\users\\nikhil\\anaconda3\\lib\\site-packages (from requests) (2024.2.2)\n",
      "Requirement already satisfied: numpy<2,>=1.23.2 in c:\\users\\nikhil\\anaconda3\\lib\\site-packages (from pandas) (1.26.4)\n",
      "Requirement already satisfied: python-dateutil>=2.8.2 in c:\\users\\nikhil\\anaconda3\\lib\\site-packages (from pandas) (2.8.2)\n",
      "Requirement already satisfied: pytz>=2020.1 in c:\\users\\nikhil\\anaconda3\\lib\\site-packages (from pandas) (2023.3.post1)\n",
      "Requirement already satisfied: tzdata>=2022.1 in c:\\users\\nikhil\\anaconda3\\lib\\site-packages (from pandas) (2023.3)\n",
      "Requirement already satisfied: et_xmlfile in c:\\users\\nikhil\\anaconda3\\lib\\site-packages (from openpyxl) (1.1.0)\n",
      "Requirement already satisfied: six>=1.5 in c:\\users\\nikhil\\anaconda3\\lib\\site-packages (from python-dateutil>=2.8.2->pandas) (1.16.0)\n"
     ]
    }
   ],
   "source": [
    "!pip install requests pandas openpyxl schedule fpdf"
   ]
  },
  {
   "cell_type": "code",
   "execution_count": 2,
   "id": "9686acf2-b16f-4ba3-898a-35efe8c66b5e",
   "metadata": {},
   "outputs": [
    {
     "data": {
      "text/html": [
       "<div>\n",
       "<style scoped>\n",
       "    .dataframe tbody tr th:only-of-type {\n",
       "        vertical-align: middle;\n",
       "    }\n",
       "\n",
       "    .dataframe tbody tr th {\n",
       "        vertical-align: top;\n",
       "    }\n",
       "\n",
       "    .dataframe thead th {\n",
       "        text-align: right;\n",
       "    }\n",
       "</style>\n",
       "<table border=\"1\" class=\"dataframe\">\n",
       "  <thead>\n",
       "    <tr style=\"text-align: right;\">\n",
       "      <th></th>\n",
       "      <th>Name</th>\n",
       "      <th>Symbol</th>\n",
       "      <th>Current Price (USD)</th>\n",
       "      <th>Market Cap</th>\n",
       "      <th>24h Volume</th>\n",
       "      <th>24h Change (%)</th>\n",
       "    </tr>\n",
       "  </thead>\n",
       "  <tbody>\n",
       "    <tr>\n",
       "      <th>0</th>\n",
       "      <td>Bitcoin</td>\n",
       "      <td>BTC</td>\n",
       "      <td>97747.00</td>\n",
       "      <td>1938327628782</td>\n",
       "      <td>30117975064</td>\n",
       "      <td>0.41742</td>\n",
       "    </tr>\n",
       "    <tr>\n",
       "      <th>1</th>\n",
       "      <td>Ethereum</td>\n",
       "      <td>ETH</td>\n",
       "      <td>2687.82</td>\n",
       "      <td>323951673207</td>\n",
       "      <td>17657787204</td>\n",
       "      <td>1.66274</td>\n",
       "    </tr>\n",
       "    <tr>\n",
       "      <th>2</th>\n",
       "      <td>XRP</td>\n",
       "      <td>XRP</td>\n",
       "      <td>2.48</td>\n",
       "      <td>143144842641</td>\n",
       "      <td>4006914910</td>\n",
       "      <td>2.61527</td>\n",
       "    </tr>\n",
       "    <tr>\n",
       "      <th>3</th>\n",
       "      <td>Tether</td>\n",
       "      <td>USDT</td>\n",
       "      <td>1.00</td>\n",
       "      <td>141907649269</td>\n",
       "      <td>43915693712</td>\n",
       "      <td>0.00628</td>\n",
       "    </tr>\n",
       "    <tr>\n",
       "      <th>4</th>\n",
       "      <td>Solana</td>\n",
       "      <td>SOL</td>\n",
       "      <td>202.09</td>\n",
       "      <td>98618100291</td>\n",
       "      <td>4767625748</td>\n",
       "      <td>-0.56446</td>\n",
       "    </tr>\n",
       "  </tbody>\n",
       "</table>\n",
       "</div>"
      ],
      "text/plain": [
       "       Name Symbol  Current Price (USD)     Market Cap   24h Volume  \\\n",
       "0   Bitcoin    BTC             97747.00  1938327628782  30117975064   \n",
       "1  Ethereum    ETH              2687.82   323951673207  17657787204   \n",
       "2       XRP    XRP                 2.48   143144842641   4006914910   \n",
       "3    Tether   USDT                 1.00   141907649269  43915693712   \n",
       "4    Solana    SOL               202.09    98618100291   4767625748   \n",
       "\n",
       "   24h Change (%)  \n",
       "0         0.41742  \n",
       "1         1.66274  \n",
       "2         2.61527  \n",
       "3         0.00628  \n",
       "4        -0.56446  "
      ]
     },
     "execution_count": 2,
     "metadata": {},
     "output_type": "execute_result"
    }
   ],
   "source": [
    "import requests\n",
    "import pandas as pd\n",
    "\n",
    "def fetch_crypto_data():\n",
    "    url = \"https://api.coingecko.com/api/v3/coins/markets\"\n",
    "    params = {\n",
    "        \"vs_currency\": \"usd\",\n",
    "        \"order\": \"market_cap_desc\",\n",
    "        \"per_page\": 50,\n",
    "        \"page\": 1,\n",
    "        \"sparkline\": False,\n",
    "        \"price_change_percentage\": \"24h\"\n",
    "    }\n",
    "\n",
    "    response = requests.get(url, params=params)\n",
    "    if response.status_code == 200:\n",
    "        data = response.json()\n",
    "        crypto_list = []\n",
    "        for coin in data:\n",
    "            crypto_list.append({\n",
    "                \"Name\": coin[\"name\"],\n",
    "                \"Symbol\": coin[\"symbol\"].upper(),\n",
    "                \"Current Price (USD)\": coin[\"current_price\"],\n",
    "                \"Market Cap\": coin[\"market_cap\"],\n",
    "                \"24h Volume\": coin[\"total_volume\"],\n",
    "                \"24h Change (%)\": coin[\"price_change_percentage_24h\"]\n",
    "            })\n",
    "        \n",
    "        return pd.DataFrame(crypto_list)\n",
    "    else:\n",
    "        print(\"Error fetching data\")\n",
    "        return None\n",
    "\n",
    "df = fetch_crypto_data()\n",
    "df.head()  # Show the first few rows"
   ]
  },
  {
   "cell_type": "code",
   "execution_count": 3,
   "id": "b4454526-35c1-47a4-a892-ed74a7990284",
   "metadata": {},
   "outputs": [
    {
     "name": "stdout",
     "output_type": "stream",
     "text": [
      "Data saved to crypto_data.xlsx\n"
     ]
    }
   ],
   "source": [
    "df.to_excel(\"crypto_data.xlsx\", index=False)\n",
    "print(\"Data saved to crypto_data.xlsx\")"
   ]
  },
  {
   "cell_type": "code",
   "execution_count": 4,
   "id": "9832f1a1-04d9-4aac-929b-95b80f6aa0bc",
   "metadata": {},
   "outputs": [
    {
     "name": "stdout",
     "output_type": "stream",
     "text": [
      "\n",
      "Top 5 Cryptocurrencies by Market Cap:\n",
      "       Name     Market Cap\n",
      "0   Bitcoin  1938327628782\n",
      "1  Ethereum   323951673207\n",
      "2       XRP   143144842641\n",
      "3    Tether   141907649269\n",
      "4    Solana    98618100291\n",
      "\n",
      "Average Price of Top 50 Cryptos: $4238.44\n",
      "\n",
      "Highest 24h Change:\n",
      "      Name  24h Change (%)\n",
      "8  Cardano        15.55976\n",
      "\n",
      "Lowest 24h Change:\n",
      "      Name  24h Change (%)\n",
      "30  MANTRA        -2.86326\n"
     ]
    }
   ],
   "source": [
    "# Top 5 Cryptos by Market Cap\n",
    "top_5 = df.nlargest(5, \"Market Cap\")\n",
    "\n",
    "# Average Price\n",
    "avg_price = df[\"Current Price (USD)\"].mean()\n",
    "\n",
    "# Highest & Lowest 24h Change\n",
    "highest_change = df.nlargest(1, \"24h Change (%)\")\n",
    "lowest_change = df.nsmallest(1, \"24h Change (%)\")\n",
    "\n",
    "# Print analysis\n",
    "print(\"\\nTop 5 Cryptocurrencies by Market Cap:\")\n",
    "print(top_5[[\"Name\", \"Market Cap\"]])\n",
    "\n",
    "print(f\"\\nAverage Price of Top 50 Cryptos: ${avg_price:.2f}\")\n",
    "\n",
    "print(\"\\nHighest 24h Change:\")\n",
    "print(highest_change[[\"Name\", \"24h Change (%)\"]])\n",
    "\n",
    "print(\"\\nLowest 24h Change:\")\n",
    "print(lowest_change[[\"Name\", \"24h Change (%)\"]])"
   ]
  },
  {
   "cell_type": "code",
   "execution_count": 5,
   "id": "79b26835-f658-4cf4-bd02-fad58a86bae5",
   "metadata": {},
   "outputs": [
    {
     "name": "stdout",
     "output_type": "stream",
     "text": [
      "PDF report generated successfully.\n"
     ]
    }
   ],
   "source": [
    "from fpdf import FPDF\n",
    "\n",
    "pdf = FPDF()\n",
    "pdf.set_auto_page_break(auto=True, margin=15)\n",
    "pdf.add_page()\n",
    "pdf.set_font(\"Arial\", \"B\", 16)\n",
    "pdf.cell(200, 10, \"Cryptocurrency Market Analysis\", ln=True, align=\"C\")\n",
    "\n",
    "pdf.ln(10)\n",
    "pdf.set_font(\"Arial\", \"\", 12)\n",
    "pdf.multi_cell(0, 10, \"This report presents an analysis of the top 50 cryptocurrencies, \"\n",
    "                       \"focusing on market capitalization, price trends, and price fluctuations over 24 hours.\")\n",
    "\n",
    "pdf.ln(5)\n",
    "pdf.set_font(\"Arial\", \"B\", 12)\n",
    "pdf.cell(0, 10, \"Key Findings:\", ln=True)\n",
    "\n",
    "pdf.set_font(\"Arial\", \"\", 12)\n",
    "pdf.cell(0, 10, f\"- The average price of the top 50 cryptocurrencies is ${avg_price:.2f}.\", ln=True)\n",
    "pdf.cell(0, 10, f\"- The highest 24-hour change is {highest_change.iloc[0]['Name']} ({highest_change.iloc[0]['24h Change (%)']:.2f}%).\", ln=True)\n",
    "pdf.cell(0, 10, f\"- The lowest 24-hour change is {lowest_change.iloc[0]['Name']} ({lowest_change.iloc[0]['24h Change (%)']:.2f}%).\", ln=True)\n",
    "\n",
    "pdf.ln(5)\n",
    "pdf.set_font(\"Arial\", \"B\", 12)\n",
    "pdf.cell(0, 10, \"Top 5 Cryptocurrencies by Market Cap:\", ln=True)\n",
    "\n",
    "pdf.set_font(\"Arial\", \"\", 12)\n",
    "for i, row in top_5.iterrows():\n",
    "    pdf.cell(0, 10, f\"- {row['Name']} (Market Cap: ${row['Market Cap']:,})\", ln=True)\n",
    "\n",
    "pdf.ln(5)\n",
    "pdf.set_font(\"Arial\", \"B\", 12)\n",
    "pdf.cell(0, 10, \"Conclusion:\", ln=True)\n",
    "pdf.set_font(\"Arial\", \"\", 12)\n",
    "pdf.multi_cell(0, 10, \"This analysis provides insights into the top cryptocurrencies and their price changes. \"\n",
    "                       \"The data can help investors understand trends and make informed decisions.\")\n",
    "\n",
    "pdf.output(\"crypto_analysis.pdf\")\n",
    "print(\"PDF report generated successfully.\")"
   ]
  },
  {
   "cell_type": "code",
   "execution_count": 6,
   "id": "4f70f6ff-c0e2-481b-a62a-7e6ca37847a0",
   "metadata": {},
   "outputs": [
    {
     "name": "stdout",
     "output_type": "stream",
     "text": [
      "File loaded successfully!\n",
      "       Name Symbol  Current Price (USD)     Market Cap   24h Volume  \\\n",
      "0   Bitcoin    BTC             97747.00  1938327628782  30117975064   \n",
      "1  Ethereum    ETH              2687.82   323951673207  17657787204   \n",
      "2       XRP    XRP                 2.48   143144842641   4006914910   \n",
      "3    Tether   USDT                 1.00   141907649269  43915693712   \n",
      "4    Solana    SOL               202.09    98618100291   4767625748   \n",
      "\n",
      "   24h Change (%)  \n",
      "0         0.41742  \n",
      "1         1.66274  \n",
      "2         2.61527  \n",
      "3         0.00628  \n",
      "4        -0.56446  \n"
     ]
    }
   ],
   "source": [
    "import pandas as pd\n",
    "\n",
    "try:\n",
    "    df = pd.read_excel(\"crypto_data.xlsx\", engine=\"openpyxl\")\n",
    "    print(\"File loaded successfully!\")\n",
    "    print(df.head())  # Show first few rows\n",
    "except Exception as e:\n",
    "    print(\"Error:\", e)"
   ]
  },
  {
   "cell_type": "code",
   "execution_count": null,
   "id": "05918874-ceb3-4d2d-97ba-36b3bf4707a3",
   "metadata": {},
   "outputs": [],
   "source": []
  }
 ],
 "metadata": {
  "kernelspec": {
   "display_name": "Python 3 (ipykernel)",
   "language": "python",
   "name": "python3"
  },
  "language_info": {
   "codemirror_mode": {
    "name": "ipython",
    "version": 3
   },
   "file_extension": ".py",
   "mimetype": "text/x-python",
   "name": "python",
   "nbconvert_exporter": "python",
   "pygments_lexer": "ipython3",
   "version": "3.11.7"
  }
 },
 "nbformat": 4,
 "nbformat_minor": 5
}
